{
 "cells": [
  {
   "cell_type": "markdown",
   "metadata": {},
   "source": [
    "# HW1"
   ]
  },
  {
   "cell_type": "code",
   "execution_count": 39,
   "metadata": {},
   "outputs": [
    {
     "name": "stdout",
     "output_type": "stream",
     "text": [
      "Restaurnt name: The Name\n",
      "Cooking method : The Method\n",
      "I like a\n",
      "I like b\n",
      "I like c\n"
     ]
    }
   ],
   "source": [
    "class Restaurant():\n",
    "    def __init__(self, name, cooking_method):\n",
    "        self.name = name\n",
    "        self.cooking_method = cooking_method\n",
    "    def describe_restaurant(self):\n",
    "        print(\"Restaurnt name: \" + self.name)\n",
    "        print(\"Cooking method : \" + self.cooking_method)\n",
    "class IceCreamStand(Restaurant):\n",
    "    def __init__(self, name, cooking_method, flavors):\n",
    "        super().__init__(name, cooking_method)\n",
    "        self.flavors = flavors\n",
    "    def show_flavors(self):\n",
    "        for flavor in self.flavors:\n",
    "            print('I like %s'%flavor)\n",
    "flavors = ['a', 'b', 'c']\n",
    "ICS = IceCreamStand(\"The Name\",\"The Method\", flavors)\n",
    "ICS.describe_restaurant()\n",
    "ICS.show_flavors()"
   ]
  },
  {
   "cell_type": "markdown",
   "metadata": {},
   "source": [
    "# HW2"
   ]
  },
  {
   "cell_type": "code",
   "execution_count": 41,
   "metadata": {},
   "outputs": [
    {
     "name": "stdout",
     "output_type": "stream",
     "text": [
      "run a.go()\n",
      "go A go!\n",
      "run b.go()\n",
      "go A go!\n",
      "go B go!\n",
      "run c.go()\n",
      "go A go!\n",
      "go C go!\n",
      "run d.go()\n",
      "go A go!\n",
      "go C go!\n",
      "go B go!\n",
      "go D go!\n",
      "run e.go()\n",
      "go A go!\n",
      "go C go!\n",
      "go B go!\n",
      "run a.stop()\n",
      "stop A stop!\n",
      "run b.stop()\n",
      "stop A stop!\n",
      "run c.stop()\n",
      "stop A stop!\n",
      "stop C stop!\n",
      "run d.stop()\n",
      "stop A stop!\n",
      "stop C stop!\n",
      "stop D stop!\n",
      "run e.stop()\n",
      "stop A stop!\n",
      "stop C stop!\n",
      "run a.pause()\n"
     ]
    },
    {
     "ename": "Exception",
     "evalue": "Not Implemented",
     "output_type": "error",
     "traceback": [
      "\u001b[1;31m---------------------------------------------------------------------------\u001b[0m",
      "\u001b[1;31mException\u001b[0m                                 Traceback (most recent call last)",
      "\u001b[1;32m<ipython-input-41-4672f58fa811>\u001b[0m in \u001b[0;36m<module>\u001b[1;34m()\u001b[0m\n\u001b[0;32m     58\u001b[0m \u001b[1;33m\u001b[0m\u001b[0m\n\u001b[0;32m     59\u001b[0m \u001b[0mprint\u001b[0m\u001b[1;33m(\u001b[0m\u001b[1;34m'run a.pause()'\u001b[0m\u001b[1;33m)\u001b[0m\u001b[1;33m\u001b[0m\u001b[0m\n\u001b[1;32m---> 60\u001b[1;33m \u001b[0ma\u001b[0m\u001b[1;33m.\u001b[0m\u001b[0mpause\u001b[0m\u001b[1;33m(\u001b[0m\u001b[1;33m)\u001b[0m\u001b[1;33m\u001b[0m\u001b[0m\n\u001b[0m\u001b[0;32m     61\u001b[0m \u001b[0mprint\u001b[0m\u001b[1;33m(\u001b[0m\u001b[1;34m'run b.pause()'\u001b[0m\u001b[1;33m)\u001b[0m\u001b[1;33m\u001b[0m\u001b[0m\n\u001b[0;32m     62\u001b[0m \u001b[0mb\u001b[0m\u001b[1;33m.\u001b[0m\u001b[0mpause\u001b[0m\u001b[1;33m(\u001b[0m\u001b[1;33m)\u001b[0m\u001b[1;33m\u001b[0m\u001b[0m\n",
      "\u001b[1;32m<ipython-input-41-4672f58fa811>\u001b[0m in \u001b[0;36mpause\u001b[1;34m(self)\u001b[0m\n\u001b[0;32m      5\u001b[0m         \u001b[0mprint\u001b[0m \u001b[1;33m(\u001b[0m\u001b[1;34m\"stop A stop!\"\u001b[0m\u001b[1;33m)\u001b[0m\u001b[1;33m\u001b[0m\u001b[0m\n\u001b[0;32m      6\u001b[0m     \u001b[1;32mdef\u001b[0m \u001b[0mpause\u001b[0m\u001b[1;33m(\u001b[0m\u001b[0mself\u001b[0m\u001b[1;33m)\u001b[0m\u001b[1;33m:\u001b[0m\u001b[1;33m\u001b[0m\u001b[0m\n\u001b[1;32m----> 7\u001b[1;33m         \u001b[1;32mraise\u001b[0m \u001b[0mException\u001b[0m\u001b[1;33m(\u001b[0m\u001b[1;34m\"Not Implemented\"\u001b[0m\u001b[1;33m)\u001b[0m\u001b[1;33m\u001b[0m\u001b[0m\n\u001b[0m\u001b[0;32m      8\u001b[0m \u001b[1;32mclass\u001b[0m \u001b[0mB\u001b[0m\u001b[1;33m(\u001b[0m\u001b[0mA\u001b[0m\u001b[1;33m)\u001b[0m\u001b[1;33m:\u001b[0m\u001b[1;33m\u001b[0m\u001b[0m\n\u001b[0;32m      9\u001b[0m     \u001b[1;32mdef\u001b[0m \u001b[0mgo\u001b[0m\u001b[1;33m(\u001b[0m\u001b[0mself\u001b[0m\u001b[1;33m)\u001b[0m\u001b[1;33m:\u001b[0m\u001b[1;33m\u001b[0m\u001b[0m\n",
      "\u001b[1;31mException\u001b[0m: Not Implemented"
     ]
    }
   ],
   "source": [
    "class A(object):\n",
    "    def go(self):\n",
    "        print(\"go A go!\")\n",
    "    def stop(self):\n",
    "        print (\"stop A stop!\")\n",
    "    def pause(self):\n",
    "        raise Exception(\"Not Implemented\")\n",
    "class B(A):\n",
    "    def go(self):\n",
    "        super(B, self).go()\n",
    "        print(\"go B go!\")\n",
    "class C(A):\n",
    "    def go(self):\n",
    "        super(C, self).go()\n",
    "        print(\"go C go!\")\n",
    "    def stop(self):\n",
    "        super(C, self).stop()\n",
    "        print(\"stop C stop!\")\n",
    "class D(B,C):\n",
    "    def go(self):\n",
    "        super(D, self).go()\n",
    "        print(\"go D go!\")\n",
    "    def stop(self):\n",
    "        super(D, self).stop()\n",
    "        print(\"stop D stop!\")\n",
    "    def pause(self):\n",
    "        print(\"wait D wait!\")\n",
    "class E(B,C):\n",
    "    pass\n",
    "\n",
    "a=A()\n",
    "b=B()\n",
    "c=C()\n",
    "d=D()\n",
    "e=E()\n",
    "\n",
    "print('run a.go()')\n",
    "a.go()\n",
    "print('run b.go()')\n",
    "b.go() \n",
    "print('run c.go()')\n",
    "c.go() \n",
    "print('run d.go()')\n",
    "d.go() \n",
    "print('run e.go()')\n",
    "e.go()\n",
    "\n",
    "print('run a.stop()')\n",
    "a.stop() \n",
    "print('run b.stop()')\n",
    "b.stop() \n",
    "print('run c.stop()')\n",
    "c.stop() \n",
    "print('run d.stop()')\n",
    "d.stop() \n",
    "print('run e.stop()')\n",
    "e.stop() \n",
    "\n",
    "print('run a.pause()')\n",
    "a.pause() \n",
    "print('run b.pause()')\n",
    "b.pause() \n",
    "print('run c.pause()')\n",
    "c.pause() \n",
    "print('run d.pause()')\n",
    "d.pause() \n",
    "print('run e.pause()')\n",
    "e.pause()"
   ]
  }
 ],
 "metadata": {
  "kernelspec": {
   "display_name": "Python 3",
   "language": "python",
   "name": "python3"
  },
  "language_info": {
   "codemirror_mode": {
    "name": "ipython",
    "version": 3
   },
   "file_extension": ".py",
   "mimetype": "text/x-python",
   "name": "python",
   "nbconvert_exporter": "python",
   "pygments_lexer": "ipython3",
   "version": "3.6.3"
  }
 },
 "nbformat": 4,
 "nbformat_minor": 2
}
