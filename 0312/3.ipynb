{
 "cells": [
  {
   "cell_type": "markdown",
   "metadata": {},
   "source": [
    "## HW3"
   ]
  },
  {
   "cell_type": "code",
   "execution_count": 1,
   "metadata": {},
   "outputs": [
    {
     "data": {
      "text/plain": [
       "'\\r\\n<!DOCTYPE html PUBLIC \"-//W3C//DTD XHTML 1.0 Transitional//EN\" \"http://www.w3.org/TR/xhtml1/DTD/xhtml1-transitional.dtd\">\\r\\n<html xmlns=\"http://www.w3.org/1999/xhtml\">\\r\\n<head>\\r\\n<title>相爺請息怒 - 裘夢 - 言情小說 - 小說博覽</title>\\r\\n<meta http-equiv=\"Content-Type\" content=\"text/html; charset=big5\" />\\r\\n<meta name=\"keywords\" content=\"相爺請息怒 相爺請息怒在線閱讀 相爺請息怒全文 相爺請息怒最新 裘夢 言情小說 小說博覽\" />\\r\\n<meta name=\"description\" content=\"相爺請息怒 作者裘夢  小說簡介:&nbsp;&nbsp;&nbsp;&nbsp;傳言當朝丞相溫文儒雅、才智兼備，<br />\\r\\n 為人更是高風亮節，不好女色的真君子──<br />\\r\\n 見鬼！從他以權勢壓人強娶她進門這點，<br />\\r\\n 就可以知道他根本是欺世盜名之輩，<br />\\r\\n 更不用說，他心心唸唸的就是養壯她羸弱的身子，<br />\\r\\n 好跟她生米煮成熟飯，就算是在她還不能行房時，<br />\\r\\n 他也絕不肯讓自己吃虧，總是抱著她磨蹭兼揩油，<br />\\r\\n 說真的，她並不排斥跟他共白首，畢竟他對她還不賴，<br />\\r\\n 但兩人中間如果夾個愛他成狂的公主，那又另當別論，<br />\\r\\n 誰讓她最怕麻煩，可不想因為他而槓上皇家，<br />\\r\\n 偏偏這男人就像狗皮藥膏，一沾上就撕不下來，<br />\\r\\n 她都自請下堂搬回娘家住，他硬是要跟她暗通款曲，<br />\\r\\n 激得公主派出御林軍包圍得她家連只蒼蠅都飛不進來，<br />\\r\\n 甚至自導自演一出遇刺戲碼，意欲害死一起出遊的她……\" />\\r\\n<meta name=\"author\" content=\"http://www.jieqi.com (jieqi cms)\" />\\r\\n<meta name=\"copyright\" content=\"\" />\\r\\n<meta name=\"generator\" content=\"Evilqq:4588130\" />\\r\\n\\r\\n<link href=\"/css_2009/style_2010413.css\" rel=\"stylesheet\" type=\"text/css\" />\\r\\n<link href=\"/themes/hongxiu//style.css\" rel=\"stylesheet\" type=\"text/css\" />\\r\\n\\r\\n<script type=\"text/javascript\" src=\"/js/index_0420.js\"></script>\\r\\n</head>\\r\\n\\r\\n<body>\\r\\n<script type=\"text/javascript\">\\t\\r\\n//加入收藏函數\\r\\nfunction bookmarkit()\\r\\n{\\r\\n   if (document.all)\\r\\n      window.external.addFavorite(\\'http://www.novelscape.net\\',\\'小說博覽\\');\\r\\n   else if (window.sidebar)\\r\\n      window.sidebar.addPanel(\\'小說博覽\\', \\'http://www.novelscape.net\\',  \"\");\\r\\n}\\r\\n</script>\\r\\n<!-- 頂部導航  -->\\r\\n<div id=\"topnav\">\\r\\n<div class=\"left\">\\r\\n<div class=\"shoujiban\">小說博覽 歡迎您！</div>\\r\\n</div>\\r\\n\\r\\n<div class=\"right\">\\r\\n<span class=\"menu_site\">\\r\\n<a href=\"/toplist/full/1.htm\" title=\"經典全本\" class=\"j_ico\">經典全本小說</a> \\r\\n\\r\\n</span>\\r\\n\\r\\n【<a href=\"javascript:;\" onClick=\"setHomepage(\\'http://www.novelscape.net\\')\">設為首頁</a>】\\r\\n【<a href=\"javascript:void(0)\" onclick=\"bookmarkit()\" title=\"把「小說博覽」加入您的收藏夾！\" target=\"_parent\">收藏本站</a>】\\r\\n</div>\\r\\n</div>\\r\\n<!-- 頂部導航 end -->\\r\\n\\r\\n<!-- logo&banner -->\\r\\n<div id=\"header\">\\r\\n<div class=\"hongxiu_logo\"><a href=\"/\" title=\"小說博覽\">小說博覽</a></div>\\r\\n<div class=\"head_banner\">\\r\\n<!--  如果只放二個 代碼為<div class=\"banner_170\"> 這裡放banner </div> <div class=\"banner_468\"> 這裡放banner </div>  -->\\r\\n<div class=\"banner_688\">\\r\\n<script type=\"text/javascript\" src=\"/js/index_top46860.js\"></script>\\r\\n</div>\\r\\n</div>\\r\\n</div>\\r\\n<!-- logo&banner end -->\\r\\n\\r\\n\\r\\n<!-- 新導航條 begin -->\\r\\n<div id=\"navber\">\\r\\n<div class=\"mainnav\">\\r\\n<ul class=\"one\">\\r\\n<li><a href=\"/\" title=\"小說博覽\">首頁</a></li>\\r\\n<li><a href=\"/toplist/toppostdate/1.htm\" title=\"連載書庫\" >連載書庫</a></li>\\r\\n<li><a href=\"/toplist/topallvisit/1.htm\" title=\"小說排行榜\" >小說排行榜</a></li>\\r\\n<li><a href=\"/toplist/full/1.htm\" title=\"全本小說\" >全本小說</a></li>\\r\\n<li><a href=\"/toplist/toplastupdate/1.htm\" title=\"最近更新\">最近更新</a></li>\\r\\n</ul>\\r\\n<div class=\"two\">\\r\\n<ul>\\r\\n<li><a href=\"\">簡體中文</a></li>\\r\\n<li><a href=\"\">繁體中文</a></li>\\r\\n</ul>\\r\\n</div>\\r\\n</div>\\r\\n<div class=\"subnav\">\\r\\n<em><a href=\"/sort/sort/1.htm\" >全部文章</a></em>\\r\\n<ul>\\r\\n<li><a href=\"/sort/sort13/1.htm\" >言情小說</a></li>\\r\\n<li><a href=\"/sort/sort12/1.htm\" >傳統武俠</a></li>\\r\\n<li><a href=\"/sort/sort11/1.htm\" >名著佳作</a></li>\\r\\n<li><a href=\"/sort/sort1/1.htm\" >玄幻魔法</a></li>\\r\\n<li><a href=\"/sort/sort2/1.htm\" >仙俠修真</a></li>\\r\\n<li><a href=\"/sort/sort4/1.htm\" >都市小說</a></li>\\r\\n<li><a href=\"/sort/sort5/1.htm\" >職場校園</a></li>\\r\\n<li><a href=\"/sort/sort6/1.htm\" >穿越重生</a></li>\\r\\n<li><a href=\"/sort/sort10/1.htm\" >科幻小說</a></li>\\r\\n<li><a href=\"/sort/sort7/1.htm\" >歷史軍事</a></li>\\r\\n</ul>\\r\\n<ul class=\"other\">\\r\\n<li><a href=\"/toplist/full/1.htm\" >全本小說</a></li>\\r\\n\\r\\n</ul>\\r\\n</div>\\r\\n</div>\\r\\n<!-- 新導航條 end -->\\r\\n\\r\\n\\r\\n<!-- 搜索  begin -->\\r\\n\\r\\n\\r\\n\\r\\n\\r\\n<!-- 搜索  end -->\\r\\n\\r\\n\\r\\n\\r\\n\\r\\n\\r\\n<div class=\"main\">\\r\\n\\r\\n  <div id=\"centerl\">\\r\\n\\r\\n\\r\\n<div id=\"content\">\\r\\n\\r\\n\\r\\n\\r\\n\\r\\n\\r\\n\\r\\n<link href=\"/css_2009/novelv5.css\" rel=\"stylesheet\" type=\"text/css\" />\\r\\n<link rel=\"stylesheet\" href=\"/css_2009/iframe.css\" />\\r\\n<script src=\"/js/common.js\" type=\"text/javascript\"></script>\\r\\n\\r\\n\\r\\n<script type=\"text/javascript\">\\t\\r\\n//加入收藏函數\\r\\nfunction bookmarkit()\\r\\n{\\r\\n   if (document.all)\\r\\n      window.external.addFavorite(\\'http://www.novelscape.net\\',\\'小說博覽\\');\\r\\n   else if (window.sidebar)\\r\\n      window.sidebar.addPanel(\\'小說博覽\\', \\'http://www.novelscape.net\\',  \"\");\\r\\n}\\r\\n</script>\\r\\n\\r\\n<!-- *****頭部 begin***** -->\\r\\n<div class=\"header\">\\r\\n\\r\\n\\r\\n\\r\\n\\r\\n<!--導航-->\\r\\n\\r\\n<!--搜索-->\\r\\n<div><center>\\r\\n<script src=\"/js/search.js\" ></script>\\r\\n</center></div>\\r\\n\\r\\n\\r\\n</div>\\r\\n<!-- *****頭部 end***** -->\\r\\n\\r\\n<div class=\"wrapper_src\">\\r\\n\\t<div class=\"src\"><a href=\"/\" title=\"小說博覽\">小說博覽</a> &gt; \\r\\n\\t<a href=\"/sort/sort13/1.htm\" id=\"htmldhfenlei\" title=\"言情小說\">言情小說</a> &gt; \\r\\n\\t<span id=\"htmldhshuming\"><a href=\"/book/34494.htm\" id=33874>相爺請息怒</a></span></div>\\r\\n</div>\\r\\n<!-- *****主體 begin***** -->\\r\\n<div id=\"wrapper\">\\r\\n<!-- *****主體right begin***** -->\\r\\n<div id=\"right\">\\r\\n<div id=\"info\">\\r\\n<div id=\"htmlAQian\" class=\"zsline\"></div>\\r\\n<h1>《<a href=\"/book/34494.htm\" id=\"htmltimu\"  title=\"相爺請息怒\">相爺請息怒</a>》<span>文 / <a href=\"/author/author_5.htm\" id=\"htmlrp\">裘夢</a>\\r\\n\\r\\n\\r\\n</span></h1>\\r\\n<div class=\"info gray666_a\">\\r\\n書號&nbsp;<span>34494</span>&nbsp;|\\r\\n字數&nbsp;<span>72989</span></a>&nbsp;|\\r\\n閱讀&nbsp;<span>193982</span></a>&nbsp;|\\r\\n收藏&nbsp;<span>3165</span></a>&nbsp;|\\r\\n推薦&nbsp;<span>3618</span></a>&nbsp;|\\r\\n更新日期&nbsp;<span>2017-05-31</span></div>\\r\\n<h3 id=\"htmljiashao\">&nbsp;&nbsp;&nbsp;&nbsp;傳言當朝丞相溫文儒雅、才智兼備，<br />\\r\\n 為人更是高風亮節，不好女色的真君子──<br />\\r\\n 見鬼！從他以權勢壓人強娶她進門這點，<br />\\r\\n 就可以知道他根本是欺世盜名之輩，<br />\\r\\n 更不用說，他心心唸唸的就是養壯她羸弱的身子，<br />\\r\\n 好跟她生米煮成熟飯，就算是在她還不能行房時，<br />\\r\\n 他也絕不肯讓自己吃虧，總是抱著她磨蹭兼揩油，<br />\\r\\n 說真的，她並不排斥跟他共白首，畢竟他對她還不賴，<br />\\r\\n 但兩人中間如果夾個愛他成狂的公主，那又另當別論，<br />\\r\\n 誰讓她最怕麻煩，可不想因為他而槓上皇家，<br />\\r\\n 偏偏這男人就像狗皮藥膏，一沾上就撕不下來，<br />\\r\\n 她都自請下堂搬回娘家住，他硬是要跟她暗通款曲，<br />\\r\\n 激得公主派出御林軍包圍得她家連只蒼蠅都飛不進來，<br />\\r\\n 甚至自導自演一出遇刺戲碼，意欲害死一起出遊的她……</h3>\\r\\n\\r\\n\\r\\n<div id=\"htmlxiangguan\" class=\"tag\">關鍵字：\\r\\n</div>\\r\\n\\r\\n\\r\\n\\r\\n<div class=\"button3\">\\r\\n<ul class=\"l\">\\r\\n<li class=\"b1\"><a href=\"/novels/34/34494/index.html\" id=\"htmldianjiyuedu\"  title=\"點擊閱讀《相爺請息怒》\">點擊閱讀</a></li>\\r\\n</ul>\\r\\n\\r\\n<div id=\"GiftMsg\"></div>\\r\\n</div>\\r\\n\\r\\n<div></div>\\r\\n\\r\\n\\r\\n</div>\\r\\n\\r\\n\\r\\n\\r\\n\\r\\n\\r\\n\\r\\n<div align=\"center\" style=\"background:#fff; padding-top:10px;\">\\r\\n\\r\\n</div>\\r\\n<div class=\"blank\"></div>\\r\\n\\r\\n\\r\\n\\r\\n\\r\\n\\r\\n\\r\\n\\r\\n<div class=\"blank\"></div>\\r\\n\\r\\n<div id=\"list\">\\r\\n<div class=\"dt\"><strong>最新章節</strong><em class=\"blue_a blue\"><a href=\"/novels/34/34494/index.html\" id=\"htmlquzhangjie\" title=\"閱讀《相爺請息怒》的全部章節\">閱讀《相爺請息怒》的全部章節</a> &gt;&gt;</em></div>\\r\\n<div class=\"new\">\\r\\n\\r\\n<div class=\"title2\">\\r\\n<div class=\"number\">\\r\\n<div class=\"l\"></div>\\r\\n<div id=\"htmlzuixinid\" class=\"m\">公眾</div>\\r\\n<div class=\"r\"></div>\\r\\n</div>\\r\\n<h2><a href=\"/novels/34/34494/2201160.html\" id=\"htmlzuixinname\" title=\"《相爺請息怒》 - 第22頁\">《相爺請息怒》 - 第22頁</a></h2>\\r\\n<font id=\"htmlzuixinshijian\">2017-05-31</font>\\r\\n</div>\\r\\n<br>\\r\\n\\t\\r\\n\\r\\n</div>\\r\\n\\r\\n\\r\\n\\r\\n</div>\\r\\n\\r\\n<div class=\"blank\"></div>\\r\\n\\r\\n<div id=\"pinglbox\">\\r\\n    <div class=\"dt\"></div>\\r\\n    <div class=\"dd\">\\r\\n\\t\\r\\n    <div class=\"top\">\\t  \\r\\n\\r\\n\\t</div>\\r\\n\\t\\r\\n\\t<!--comment start-->\\r\\n\\r\\n    <!--comment end-->\\r\\n </div>\\r\\n\\t\\t  \\r\\n</div>\\r\\n\\r\\n\\r\\n</div>\\r\\n<!-- *****主體right end***** -->\\r\\n\\r\\n<!-- *****主體left begin***** -->\\r\\n<div id=\"left\">\\r\\n<div class=\"fmian\">\\r\\n\\r\\n<div class=\"img\"><img src=\"/image/34/34494/34494s.jpg\" id=\"htmlfengmiantu\" alt=\"相爺請息怒\" width=\"160px\" height=\"205px\"/></div>\\r\\n\\r\\n<div class=\"txt\">\\r\\n\\r\\n<p><b id=\"htmlquanben\" >寫作狀態:已完成</b></p>\\r\\n<p><b id=\"htmlquanben\" >作品類別:言情小說</b></p>\\r\\n\\r\\n</div>\\r\\n<div class=\"foot\"></div>\\r\\n</div>\\r\\n\\r\\n\\r\\n<div class=\"blank\"></div>\\r\\n<dl class=\"mod_l\">\\r\\n<dt><strong>收藏排行</strong><span class=\"pic\"></span></dt>\\r\\n<dd class=\"li2\">\\r\\n \\r\\n\\r\\n\\r\\n<A href=\"/book/1581.htm\" >庶女攻略</A><BR>\\r\\n\\r\\n\\r\\n<A href=\"/book/34072.htm\" >心疼前妻</A><BR>\\r\\n\\r\\n\\r\\n<A href=\"/book/34009.htm\" >冰山爹地</A><BR>\\r\\n\\r\\n\\r\\n<A href=\"/book/39218.htm\" >鹿鼎記</A><BR>\\r\\n\\r\\n\\r\\n<A href=\"/book/39215.htm\" >神雕俠侶</A><BR>\\r\\n\\r\\n\\r\\n<A href=\"/book/2227.htm\" >吞噬星空</A><BR>\\r\\n\\r\\n\\r\\n<A href=\"/book/38667.htm\" >尋秦記</A><BR>\\r\\n\\r\\n\\r\\n<A href=\"/book/41103.htm\" >獵命師傳奇·卷十八</A><BR>\\r\\n\\r\\n\\r\\n<A href=\"/book/2285.htm\" >斗羅大陸</A><BR>\\r\\n\\r\\n\\r\\n<A href=\"/book/34634.htm\" >嫩女啃不得</A><BR>\\r\\n\\r\\n \\r\\n</dd>\\r\\n</dl>\\r\\n\\r\\n<div class=\"blank\"></div>\\r\\n<dl class=\"mod_l\">\\r\\n<dt><strong>閱讀排行</strong><span class=\"pic\"></span></dt>\\r\\n<dd class=\"li2\">\\r\\n \\r\\n\\r\\n\\r\\n<A href=\"/book/38673.htm\" >大唐雙龍傳</A><BR>\\r\\n\\r\\n\\r\\n<A href=\"/book/34633.htm\" >腹黑小爸</A><BR>\\r\\n\\r\\n\\r\\n<A href=\"/book/38667.htm\" >尋秦記</A><BR>\\r\\n\\r\\n\\r\\n<A href=\"/book/2227.htm\" >吞噬星空</A><BR>\\r\\n\\r\\n\\r\\n<A href=\"/book/34072.htm\" >心疼前妻</A><BR>\\r\\n\\r\\n\\r\\n<A href=\"/book/34494.htm\" >相爺請息怒</A><BR>\\r\\n\\r\\n\\r\\n<A href=\"/book/35775.htm\" >變調一夜情</A><BR>\\r\\n\\r\\n\\r\\n<A href=\"/book/2223.htm\" >武動乾坤</A><BR>\\r\\n\\r\\n\\r\\n<A href=\"/book/34535.htm\" >嬌妻甜寶寶</A><BR>\\r\\n\\r\\n\\r\\n<A href=\"/book/33105.htm\" >宅妻</A><BR>\\r\\n\\r\\n \\r\\n\\r\\n</dd>\\r\\n</dl>\\r\\n\\r\\n<div class=\"blank\"></div>\\r\\n<dl class=\"mod_l\">\\r\\n<dt><strong>推薦排行</strong><span class=\"pic\"></span></dt>\\r\\n<dd class=\"li2\">\\r\\n\\r\\n\\r\\n\\r\\n<A href=\"/book/38673.htm\" >大唐雙龍傳</A><BR>\\r\\n\\r\\n\\r\\n<A href=\"/book/41103.htm\" >獵命師傳奇·卷十八</A><BR>\\r\\n\\r\\n\\r\\n<A href=\"/book/2285.htm\" >斗羅大陸</A><BR>\\r\\n\\r\\n\\r\\n<A href=\"/book/2160.htm\" >花千骨</A><BR>\\r\\n\\r\\n\\r\\n<A href=\"/book/38667.htm\" >尋秦記</A><BR>\\r\\n\\r\\n\\r\\n<A href=\"/book/37001.htm\" >三界仙書</A><BR>\\r\\n\\r\\n\\r\\n<A href=\"/book/2223.htm\" >武動乾坤</A><BR>\\r\\n\\r\\n\\r\\n<A href=\"/book/39212.htm\" >天龍八部</A><BR>\\r\\n\\r\\n\\r\\n<A href=\"/book/34535.htm\" >嬌妻甜寶寶</A><BR>\\r\\n\\r\\n\\r\\n<A href=\"/book/39226.htm\" >倚天屠龍記</A><BR>\\r\\n\\r\\n </dd>\\r\\n</dl>\\r\\n\\r\\n\\r\\n\\r\\n\\r\\n\\r\\n\\r\\n\\r\\n\\r\\n</div>\\r\\n<!-- *****主體left end***** -->\\r\\n<div class=\"wrapperfoot\"></div>\\r\\n</div>\\r\\n<!-- *****主體 end***** -->\\r\\n\\r\\n\\r\\n\\r\\n\\r\\n<!-- *****尾部 begin***** -->\\r\\n\\r\\n<div id=\"footer\">\\r\\n    <p class=\"fastnav\">\\r\\n\\r\\n\\t</p>\\r\\n   \\r\\n  \\r\\n</div>\\r\\n<!-- *****尾部 end***** -->\\r\\n\\r\\n\\r\\n<!-- 默認登陸開始 -->\\r\\n\\r\\n\\r\\n</div>\\r\\n\\r\\n</div>\\r\\n\\r\\n</div>\\r\\n\\r\\n\\r\\n\\r\\n\\r\\n\\r\\n<div id=\"footer\">\\r\\n\\r\\n<p class=\"Copyright\"><script src=\"/js/copyright.js\" ></script><script src=\"/js/count.js\" ></script></p>\\t\\t\\t\\r\\n</div>\\r\\n</body>\\r\\n</html>\\r\\n'"
      ]
     },
     "execution_count": 1,
     "metadata": {},
     "output_type": "execute_result"
    }
   ],
   "source": [
    "import requests\n",
    "res = requests.get('http://www.novelscape.net/book/34494.htm')\n",
    "res.encoding = \"big5\"\n",
    "html = res.text\n",
    "html[:]"
   ]
  },
  {
   "cell_type": "code",
   "execution_count": 81,
   "metadata": {},
   "outputs": [
    {
     "data": {
      "text/plain": [
       "'&nbsp;&nbsp;&nbsp;&nbsp;傳言當朝丞相溫文儒雅、才智兼備， 為人更是高風亮節，不好女色的真君子── 見鬼！從他以權勢壓人強娶她進門這點， 就可以知道他根本是欺世盜名之輩， 更不用說，他心心唸唸的就是養壯她羸弱的身子， 好跟她生米煮成熟飯，就算是在她還不能行房時， 他也絕不肯讓自己吃虧，總是抱著她磨蹭兼揩油， 說真的，她並不排斥跟他共白首，畢竟他對她還不賴， 但兩人中間如果夾個愛他成狂的公主，那又另當別論， 誰讓她最怕麻煩，可不想因為他而槓上皇家， 偏偏這男人就像狗皮藥膏，一沾上就撕不下來， 她都自請下堂搬回娘家住，他硬是要跟她暗通款曲， 激得公主派出御林軍包圍得她家連只蒼蠅都飛不進來， 甚至自導自演一出遇刺戲碼，意欲害死一起出遊的她……</h3><div id=\"htmlxiangguan\" class=\"tag\">關鍵字：</div><div class=\"button3\"><ul class=\"l\"><li class=\"b1\"><a href=\"/novels/34/34494/index.html\" id=\"htmldianjiyuedu\"  title=\"點擊閱讀《相爺請息怒》\">點擊閱讀</a></li></ul><div id=\"GiftMsg\"></div></div><div></div></div><div align=\"center\" style=\"background:#fff; padding-top:10px;\"></div><div class=\"blank\"></div><div class=\"blank\"></div><div id=\"list\"><div class=\"dt\"><strong>最新章節</strong><em class=\"blue_a blue\"><a href=\"/novels/34/34494/index.html\" id=\"htmlquzhangjie\" title=\"閱讀《相爺請息怒》的全部章節\">閱讀《相爺請息怒》的全部章節</a> &gt;&gt;</em></div><div class=\"new\"><div class=\"title2\"><div class=\"number\"><div class=\"l\"></div><div id=\"htmlzuixinid\" class=\"m\">公眾</div><div class=\"r\"></div></div><h2><a href=\"/novels/34/34494/2201160.html\" id=\"htmlzuixinname\" title=\"《相爺請息怒》 - 第22頁\">《相爺請息怒》 - 第22頁</a></h2><font id=\"htmlzuixinshijian\">2017-05-31</font></div><br>\\t</div></div><div class=\"blank\"></div><div id=\"pinglbox\">    <div class=\"dt\"></div>    <div class=\"dd\">\\t    <div class=\"top\">\\t  \\t</div>\\t\\t<!--comment start-->    <!--comment end--> </div>\\t\\t  </div></div><!-- *****主體right end***** --><!-- *****主體left begin***** --><div id=\"left\"><div class=\"fmian\"><div class=\"img\"><img src=\"/image/34/34494/34494s.jpg\" id=\"htmlfengmiantu\" alt=\"相爺請息怒\" width=\"160px\" height=\"205px\"/></div><div class=\"txt\"><p><b id=\"htmlquanben\" >寫作狀態:已完成</b></p><p><b id=\"htmlquanben\" >作品類別:言情小說</b></p></div><div class=\"foot\"></div></div><div class=\"blank\"></div><dl class=\"mod_l\"><dt><strong>收藏排行</strong><span class=\"pic\"></span></dt><dd class=\"li2\"> <A href=\"/book/1581.htm\" >庶女攻略</A><BR><A href=\"/book/34072.htm\" >心疼前妻</A><BR><A href=\"/book/34009.htm\" >冰山爹地</A><BR><A href=\"/book/39218.htm\" >鹿鼎記</A><BR><A href=\"/book/39215.htm\" >神雕俠侶</A><BR><A href=\"/book/2227.htm\" >吞噬星空</A><BR><A href=\"/book/38667.htm\" >尋秦記</A><BR><A href=\"/book/41103.htm\" >獵命師傳奇·卷十八</A><BR><A href=\"/book/2285.htm\" >斗羅大陸</A><BR><A href=\"/book/34634.htm\" >嫩女啃不得</A><BR> </dd></dl><div class=\"blank\"></div><dl class=\"mod_l\"><dt><strong>閱讀排行</strong><span class=\"pic\"></span></dt><dd class=\"li2\"> <A href=\"/book/38673.htm\" >大唐雙龍傳</A><BR><A href=\"/book/34633.htm\" >腹黑小爸</A><BR><A href=\"/book/38667.htm\" >尋秦記</A><BR><A href=\"/book/2227.htm\" >吞噬星空</A><BR><A href=\"/book/34072.htm\" >心疼前妻</A><BR><A href=\"/book/34494.htm\" >相爺請息怒</A><BR><A href=\"/book/35775.htm\" >變調一夜情</A><BR><A href=\"/book/2223.htm\" >武動乾坤</A><BR><A href=\"/book/34535.htm\" >嬌妻甜寶寶</A><BR><A href=\"/book/33105.htm\" >宅妻</A><BR> </dd></dl><div class=\"blank\"></div><dl class=\"mod_l\"><dt><strong>推薦排行</strong><span class=\"pic\"></span></dt><dd class=\"li2\"><A href=\"/book/38673.htm\" >大唐雙龍傳</A><BR><A href=\"/book/41103.htm\" >獵命師傳奇·卷十八</A><BR><A href=\"/book/2285.htm\" >斗羅大陸</A><BR><A href=\"/book/2160.htm\" >花千骨</A><BR><A href=\"/book/38667.htm\" >尋秦記</A><BR><A href=\"/book/37001.htm\" >三界仙書</A><BR><A href=\"/book/2223.htm\" >武動乾坤</A><BR><A href=\"/book/39212.htm\" >天龍八部</A><BR><A href=\"/book/34535.htm\" >嬌妻甜寶寶</A><BR><A href=\"/book/39226.htm\" >倚天屠龍記</A><BR> </dd></dl></div><!-- *****主體left end***** --><div class=\"wrapperfoot\"></div></div><!-- *****主體 end***** --><!-- *****尾部 begin***** --><div id=\"footer\">    <p class=\"fastnav\">\\t</p>     </div><!-- *****尾部 end***** --><!-- 默認登陸開始 --></div></div></div><div id=\"footer\"><p class=\"Copyright\"><script src=\"/js/copyright.js\" ></script><script src=\"/js/count.js\" ></script></p>\\t\\t\\t</div></body></html>'"
      ]
     },
     "execution_count": 81,
     "metadata": {},
     "output_type": "execute_result"
    }
   ],
   "source": [
    "html[html.find('<h3 id=\"htmljiashao\">')+len('<h3 id=\"htmljiashao\">'):].replace('\\r\\n','').replace('<br />','')"
   ]
  },
  {
   "cell_type": "code",
   "execution_count": 56,
   "metadata": {},
   "outputs": [
    {
     "data": {
      "text/plain": [
       "'\\r\\n<!DOCTYPE html PUBLIC \"-//W3C//DTD XHTML 1.0 Transitional//EN\" \"http://www.w3.org/TR/xhtml1/DTD/xhtml1-transitional.dtd\">\\r\\n<html xmlns=\"http://www.w3.org/1999/xhtml\">\\r\\n<head>\\r\\n<title>相爺請息怒 - 裘夢 - 言情小說 - 小說博覽</title>\\r\\n<meta http-equiv=\"Content-Type\" content=\"text/html; charset=big5\" />\\r\\n<meta name=\"keywords\" content=\"相爺請息怒 相爺請息怒在線閱讀 相爺請息怒全文 相爺請息怒最新 裘夢 言情小說 小說博覽\" />\\r\\n<meta name=\"description\" content=\"相爺請息怒 作者裘夢  小說簡介:&nbsp;&nbsp;&nbsp;&nbsp;傳言當朝丞相溫文儒雅、才智兼備，<br />\\r\\n 為人更是高風亮節，不好女色的真君子──<br />\\r\\n 見鬼！從他以權勢壓人強娶她進門這點，<br />\\r\\n 就可以知道他根本是欺世盜名之輩，<br />\\r\\n 更不用說，他心心唸唸的就是養壯她羸弱的身子，<br />\\r\\n 好跟她生米煮成熟飯，就算是在她還不能行房時，<br />\\r\\n 他也絕不肯讓自己吃虧，總是抱著她磨蹭兼揩油，<br />\\r\\n 說真的，她並不排斥跟他共白首，畢竟他對她還不賴，<br />\\r\\n 但兩人中間如果夾個愛他成狂的公主，那又另當別論，<br />\\r\\n 誰讓她最怕麻煩，可不想因為他而槓上皇家，<br />\\r\\n 偏偏這男人就像狗皮藥膏，一沾上就撕不下來，<br />\\r\\n 她都自請下堂搬回娘家住，他硬是要跟她暗通款曲，<br />\\r\\n 激得公主派出御林軍包圍得她家連只蒼蠅都飛不進來，<br />\\r\\n 甚至自導自演一出遇刺戲碼，意欲害死一起出遊的她……\" />\\r\\n<meta name=\"author\" content=\"http://www.jieqi.com (jieqi cms)\" />\\r\\n<meta name=\"copyright\" content=\"\" />\\r\\n<meta name=\"generator\" content=\"Evilqq:4588130\" />\\r\\n\\r\\n<link href=\"/css_2009/style_2010413.css\" rel=\"stylesheet\" type=\"text/css\" />\\r\\n<link href=\"/themes/hongxiu//style.css\" rel=\"stylesheet\" type=\"text/css\" />\\r\\n\\r\\n<script type=\"text/javascript\" src=\"/js/index_0420.js\"></script>\\r\\n</head>\\r\\n\\r\\n<body>\\r\\n<script type=\"text/javascript\">\\t\\r\\n//加入收藏函數\\r\\nfunction bookmarkit()\\r\\n{\\r\\n   if (document.all)\\r\\n      window.external.addFavorite(\\'http://www.novelscape.net\\',\\'小說博覽\\');\\r\\n   else if (window.sidebar)\\r\\n      window.sidebar.addPanel(\\'小說博覽\\', \\'http://www.novelscape.net\\',  \"\");\\r\\n}\\r\\n</script>\\r\\n<!-- 頂部導航  -->\\r\\n<div id=\"topnav\">\\r\\n<div class=\"left\">\\r\\n<div class=\"shoujiban\">小說博覽 歡迎您！</div>\\r\\n</div>\\r\\n\\r\\n<div class=\"right\">\\r\\n<span class=\"menu_site\">\\r\\n<a href=\"/toplist/full/1.htm\" title=\"經典全本\" class=\"j_ico\">經典全本小說</a> \\r\\n\\r\\n</span>\\r\\n\\r\\n【<a href=\"javascript:;\" onClick=\"setHomepage(\\'http://www.novelscape.net\\')\">設為首頁</a>】\\r\\n【<a href=\"javascript:void(0)\" onclick=\"bookmarkit()\" title=\"把「小說博覽」加入您的收藏夾！\" target=\"_parent\">收藏本站</a>】\\r\\n</div>\\r\\n</div>\\r\\n<!-- 頂部導航 end -->\\r\\n\\r\\n<!-- logo&banner -->\\r\\n<div id=\"header\">\\r\\n<div class=\"hongxiu_logo\"><a href=\"/\" title=\"小說博覽\">小說博覽</a></div>\\r\\n<div class=\"head_banner\">\\r\\n<!--  如果只放二個 代碼為<div class=\"banner_170\"> 這裡放banner </div> <div class=\"banner_468\"> 這裡放banner </div>  -->\\r\\n<div class=\"banner_688\">\\r\\n<script type=\"text/javascript\" src=\"/js/index_top46860.js\"></script>\\r\\n</div>\\r\\n</div>\\r\\n</div>\\r\\n<!-- logo&banner end -->\\r\\n\\r\\n\\r\\n<!-- 新導航條 begin -->\\r\\n<div id=\"navber\">\\r\\n<div class=\"mainnav\">\\r\\n<ul class=\"one\">\\r\\n<li><a href=\"/\" title=\"小說博覽\">首頁</a></li>\\r\\n<li><a href=\"/toplist/toppostdate/1.htm\" title=\"連載書庫\" >連載書庫</a></li>\\r\\n<li><a href=\"/toplist/topallvisit/1.htm\" title=\"小說排行榜\" >小說排行榜</a></li>\\r\\n<li><a href=\"/toplist/full/1.htm\" title=\"全本小說\" >全本小說</a></li>\\r\\n<li><a href=\"/toplist/toplastupdate/1.htm\" title=\"最近更新\">最近更新</a></li>\\r\\n</ul>\\r\\n<div class=\"two\">\\r\\n<ul>\\r\\n<li><a href=\"\">簡體中文</a></li>\\r\\n<li><a href=\"\">繁體中文</a></li>\\r\\n</ul>\\r\\n</div>\\r\\n</div>\\r\\n<div class=\"subnav\">\\r\\n<em><a href=\"/sort/sort/1.htm\" >全部文章</a></em>\\r\\n<ul>\\r\\n<li><a href=\"/sort/sort13/1.htm\" >言情小說</a></li>\\r\\n<li><a href=\"/sort/sort12/1.htm\" >傳統武俠</a></li>\\r\\n<li><a href=\"/sort/sort11/1.htm\" >名著佳作</a></li>\\r\\n<li><a href=\"/sort/sort1/1.htm\" >玄幻魔法</a></li>\\r\\n<li><a href=\"/sort/sort2/1.htm\" >仙俠修真</a></li>\\r\\n<li><a href=\"/sort/sort4/1.htm\" >都市小說</a></li>\\r\\n<li><a href=\"/sort/sort5/1.htm\" >職場校園</a></li>\\r\\n<li><a href=\"/sort/sort6/1.htm\" >穿越重生</a></li>\\r\\n<li><a href=\"/sort/sort10/1.htm\" >科幻小說</a></li>\\r\\n<li><a href=\"/sort/sort7/1.htm\" >歷史軍事</a></li>\\r\\n</ul>\\r\\n<ul class=\"other\">\\r\\n<li><a href=\"/toplist/full/1.htm\" >全本小說</a></li>\\r\\n\\r\\n</ul>\\r\\n</div>\\r\\n</div>\\r\\n<!-- 新導航條 end -->\\r\\n\\r\\n\\r\\n<!-- 搜索  begin -->\\r\\n\\r\\n\\r\\n\\r\\n\\r\\n<!-- 搜索  end -->\\r\\n\\r\\n\\r\\n\\r\\n\\r\\n\\r\\n<div class=\"main\">\\r\\n\\r\\n  <div id=\"centerl\">\\r\\n\\r\\n\\r\\n<div id=\"content\">\\r\\n\\r\\n\\r\\n\\r\\n\\r\\n\\r\\n\\r\\n<link href=\"/css_2009/novelv5.css\" rel=\"stylesheet\" type=\"text/css\" />\\r\\n<link rel=\"stylesheet\" href=\"/css_2009/iframe.css\" />\\r\\n<script src=\"/js/common.js\" type=\"text/javascript\"></script>\\r\\n\\r\\n\\r\\n<script type=\"text/javascript\">\\t\\r\\n//加入收藏函數\\r\\nfunction bookmarkit()\\r\\n{\\r\\n   if (document.all)\\r\\n      window.external.addFavorite(\\'http://www.novelscape.net\\',\\'小說博覽\\');\\r\\n   else if (window.sidebar)\\r\\n      window.sidebar.addPanel(\\'小說博覽\\', \\'http://www.novelscape.net\\',  \"\");\\r\\n}\\r\\n</script>\\r\\n\\r\\n<!-- *****頭部 begin***** -->\\r\\n<div class=\"header\">\\r\\n\\r\\n\\r\\n\\r\\n\\r\\n<!--導航-->\\r\\n\\r\\n<!--搜索-->\\r\\n<div><center>\\r\\n<script src=\"/js/search.js\" ></script>\\r\\n</center></div>\\r\\n\\r\\n\\r\\n</div>\\r\\n<!-- *****頭部 end***** -->\\r\\n\\r\\n<div class=\"wrapper_src\">\\r\\n\\t<div class=\"src\"><a href=\"/\" title=\"小說博覽\">小說博覽</a> &gt; \\r\\n\\t<a href=\"/sort/sort13/1.htm\" id=\"htmldhfenlei\" title=\"言情小說\">言情小說</a> &gt; \\r\\n\\t<span id=\"htmldhshuming\"><a href=\"/book/34494.htm\" id=33874>相爺請息怒</a></span></div>\\r\\n</div>\\r\\n<!-- *****主體 begin***** -->\\r\\n<div id=\"wrapper\">\\r\\n<!-- *****主體right begin***** -->\\r\\n<div id=\"right\">\\r\\n<div id=\"info\">\\r\\n<div id=\"htmlAQian\" class=\"zsline\"></div>\\r\\n<h1>《<a href=\"/book/34494.htm\" id=\"htmltimu\"  title=\"相爺請息怒\">相爺請息怒</a>》<span>文 / <a href=\"/author/author_5.htm\" id=\"htmlrp\">裘夢</a>\\r\\n\\r\\n\\r\\n</span></h1>\\r\\n<div class=\"info gray666_a\">\\r\\n書號&nbsp;<span>34494</span>&nbsp;|\\r\\n字數&nbsp;<span>72989</span></a>&nbsp;|\\r\\n閱讀&nbsp;<span>193982</span></a>&nbsp;|\\r\\n收藏&nbsp;<span>3165</span></a>&nbsp;|\\r\\n推薦&nbsp;<span>3618</span></a>&nbsp;|\\r\\n更新日期&nbsp;<span>2017-05-31</span></div>\\r\\n'"
      ]
     },
     "execution_count": 56,
     "metadata": {},
     "output_type": "execute_result"
    }
   ],
   "source": [
    "html[:html.find('<h3 id=\"htmljiashao\">')]"
   ]
  },
  {
   "cell_type": "code",
   "execution_count": 83,
   "metadata": {},
   "outputs": [
    {
     "data": {
      "text/plain": [
       "'相爺請息怒 - 裘夢 - 言情小說 - 小說博覽'"
      ]
     },
     "execution_count": 83,
     "metadata": {},
     "output_type": "execute_result"
    }
   ],
   "source": [
    "html[html.find('<title>')+len('<title>'):html.find('</title>')]"
   ]
  },
  {
   "cell_type": "code",
   "execution_count": 85,
   "metadata": {},
   "outputs": [
    {
     "data": {
      "text/plain": [
       "'相息-夢 小-說'"
      ]
     },
     "execution_count": 85,
     "metadata": {},
     "output_type": "execute_result"
    }
   ],
   "source": [
    "html[html.find('<title>')+len('<title>'):html.find('</title>'):3]"
   ]
  },
  {
   "cell_type": "code",
   "execution_count": 87,
   "metadata": {},
   "outputs": [
    {
     "data": {
      "text/plain": [
       "'\\r!CPhlUI\"/CD T 0rsia/\"hp/w3rTxm/Dhltntn.d\\rhlmshp/w3r19hl\\rhd\\nie爺怒  言說 博'"
      ]
     },
     "execution_count": 87,
     "metadata": {},
     "output_type": "execute_result"
    }
   ],
   "source": [
    "html[:html.find('</title>'):3]"
   ]
  },
  {
   "cell_type": "code",
   "execution_count": 89,
   "metadata": {},
   "outputs": [
    {
     "data": {
      "text/plain": [
       "'相息-夢 小-說<ie\\ne tei\"nnTecttttt;hs=g \\rmaa=eosctt相息相息線 請全相息新夢情 博 \\rmaa=ertnctt相息作夢小介npnpnpnp言丞文、兼< \\r為是亮不色君─r> ！以壓娶門，r> 以他是盜輩b/\\n不，心的養羸身< \\r好生成，是還行，r> 絕讓吃總著蹭油b/\\n真她排他首竟她賴b/\\n兩間夾他的，另論b/\\n讓怕，想他上，r> 這就皮，上不，r> 自堂娘，是她款< \\r激主御包她只都進< \\r甚導一刺，害起的…/\\ne m\"trctthp/wiio(e s \\rmaa=orh nn\"/\\ne m\"narcttEl:83 \\r\\ni e\"s29te04.sr=tee\"y=e/s/\\ni e\"hehguslc\"e\"yse p\"xc\">\\rsi p\"xjarts=jie00s<cp\\r/a\\r\\no><rty=e/vcp>\\n加藏\\rutnomk(\\n\\n  omtl\\r  ioeeaaFot\\'t/wnecee,說\\'\\r l  ioser\\n  nwib.dn(說\\'\\'t/wnecee,\";}<cp\\r! 導 ><vdtn\"\\nics\"f><vlssub\"說 您/v\\nd>\\rd a=it\\rsnlsmui\"\\n e\"oi/l1t t=典\"lsjc>全說a\\r\\nsn\\n【 e\"vcp;olksHeg\\'t/wnecee)設頁a\\r<hfjarto(\"ni=omk( t=「博加的夾 rt_rt收站a\\r/v\\nd><-部 d-\\n<-o&nr-\\nii\"ar\\rd a=ox_g> e\" t=說\"說<>d><vlshdae><-如放 為ics\"nr7>裡ae<i ics\"nr6>裡ae<i -\\nics\"nr8><rty=e/vcp c//d_p8.\"/rt\\nd><i\\r/v\\n-loaee >\\r\\n-新條en-\\nii\"vr\\rd a=an\"\\nllso\"\\niar=\"ie小覽首/<i\\niar=tltoode.mtl\"書 載<>l\\rl<hf/pstavi1t t=說榜>排<>l\\rl<hf/psfl.mtl\"小 本<>l\\rl<hf/pstltde.mtl\"更>更/<i\\nu\\rd a=w><><> e\"簡文a/><> e\"繁文a/><l\\nd><i\\rd a=ua><> e\"o/r1t 部<>e\\ru\\rl<hf/rst/h\"言說a/><> e\"o/r2.m>武/<i\\niar=sto11t 著<>l\\rl<hf/rst1t 幻<>l\\rl<hf/rst1t 俠<>l\\rl<hf/rst1t 市<>l\\rl<hf/rst1t 場<>l\\rl<hf/rst1t 越<>l\\rl<hf/rst/h\"科說a/><> e\"o/r/h\"歷事a/><l\\nllsoe><> e\"oi/l1t 本<>l\\r\\nu\\r/v\\nd><-導 d-\\n\\r!  en-\\n\\r\\n<-索e >\\r\\n\\r\\nics\"i>\\r ii\"nr>\\r\\nii\"nn>\\r\\n\\r\\n<nhf/s0/vvc\"e\"yse p\"xc\"><nr=tee\"r=c_0ia.s/\\ncps=jcm.\"y=e/vcp>si>\\r\\ncptettasi\"\\r/收數fcobkrt\\r\\r fduna)  wd.tn.dvi(t:w.vspn\\'小覽; eefwd.da\\r  ioserdal小覽 t:w.vspn\\' )\\n\\nsi>\\r! *頭bi**-\\nics\"ar\\r\\n\\r\\n-航>\\r!搜-\\ni<nr\\ncps=jsr.\"<cp\\r/nr/v\\n\\r/v\\n-**部n**-\\n<vlswprr>\\tics\"c<hf/tl\"博>博/ t\\r<hf/rst/h\"dhlfl\"ie言說言說a&;\\nsndhlsmg<hf/o39h\"d34爺怒a/a<i\\r/v\\n-**體en* ><vdwpr\\r! *主iten* ><vdrh><vdio\\rd =tAa a=sn>d><>ar=bk44t =ttu t=爺怒相息/》p>/ar=ah/tr.mi\"mp裘/\\r\\n<p>h\\rd a=n a6a\\r號b;p>4<p>b;\\n&s<a78/a<>b;\\n&s<a19<p>anp\\r藏b;p>6/a<>b;\\n&s<a38sn/&s|更期b;p>103/a<i\\rhi\"mih\"npnpnpnp言丞文、兼< \\r為是亮不色君─r> ！以壓娶門，r> 以他是盜輩b/\\n不，心的養羸身< \\r好生成，是還行，r> 絕讓吃總著蹭油b/\\n真她排他首竟她賴b/\\n兩間夾他的，另論b/\\n讓怕，想他上，r> 這就皮，上不，r> 自堂娘，是她款< \\r激主御包她只都進< \\r甚導一刺，害起的…h\\r\\n<vdhlagncs\"g關：<i\\r\\n\\rd a=uo\"\\nllsl\\rlcs\"\"ar=ne//4/d.m =tdnyd ie點讀爺怒>閱/<i\\nu\\r\\nii\"fs>d><i\\r\\ni<i\\r\\n<i\\r\\n\\r\\n\\rd i=ee y=agu:f dnt:p\"\\n<i\\rd a=lk<i\\r\\n\\r\\n\\r\\nics\"a\"/v\\n<vdlt\\rd a=t<rg新<tn< a=l_be<hf/vs444nxt\"dhlzni t=讀爺怒全節閱相息的章/ tg<m/v\\nics\"w\\r\\nics\"t2\\rd a=ue><vlsl<i\\rd =tzxi a=\"眾d><vlsr<i\\r/v\\n2ar=ne//4/06hli\"muia\"ie《請》 2>爺怒-2<>h\\rftdhlinia>103/n\\r/v\\nr\\n\\n<i\\r\\n\\r/v\\n<vlsbn>d>\\rd =ilx\\r <vlsd>d>  ics\"\"\\n\\n d a=o> \\r<i\\r\\r<-mnsr-\\n  -oe d> d>\\t <i\\r\\n<i\\r! *主itn**-\\n<-**lten* ><vdlt\\rd a=mn\\r\\nics\"g<gr\"me44444j\"dhlnit t相息 d=6xhg=0x>d>\\rd a=x>\\rpbdhlae 作:成b/\\rpbdhlae 品:小/<>\\r/v\\nics\"o>d><i\\r\\n<vlsbn>d>< a=ol\\rd<rg藏<tn<acs\"c<p>d\\rdcs\"2\\r\\r\\n<hf/o11t 女<>R\\n\\rAr=bk42t 疼<>R\\n\\rAr=bk49t 山<>R\\n\\rAr=bk98t 鼎/<>\\r\\n e\"o/2.m>俠/<>\\r\\n e\"o/2h\"吞空AB\\r\\n<hf/o36h\"尋<>R\\n\\rAr=bk13t 命奇十/<>\\r\\n e\"o/8h\"斗陸AB\\r\\n<hf/o33h\"嫩不/<>\\r\\r/><l\\n<vlsbn>d>< a=ol\\rd<rg讀<tn<acs\"c<p>d\\rdcs\"2\\r\\r\\n<hf/o37h\"大龍/<>\\r\\n e\"o/6.m>小/<>\\r\\n e\"o/6.m>記AB\\r\\n<hf/o27t 噬<>R\\n\\rAr=bk42t 疼<>R\\n\\rAr=bk44t 爺怒AB\\r\\n<hf/o37h\"變夜/<>\\r\\n e\"o/2h\"武坤AB\\r\\n<hf/o33h\"嬌寶/<>\\r\\n e\"o/1.m><>R\\n \\r/><l\\n<vlsbn>d>< a=ol\\rd<rg薦<tn<acs\"c<p>d\\rdcs\"2\\r\\n\\rAr=bk83t 唐傳AB\\r\\n<hf/o40h\"獵傳卷<>R\\n\\rAr=bk2.m>大/<>\\r\\n e\"o/6h\"花<>R\\n\\rAr=bk87t 秦/<>\\r\\n e\"o/0.m>仙/<>\\r\\n e\"o/2h\"武坤AB\\r\\n<hf/o31h\"天部AB\\r\\n<hf/o33h\"嬌寶/<>\\r\\n e\"o/2.m>屠<>R\\n d\\r/>\\r\\n\\r\\n\\r\\nd><-**ltn**-\\nics\"aeo\"/v\\nd><-** d* >\\r\\n\\r! *尾bi**-\\n<vdft\"\\n plsftv\\r\\n/\\r \\n\\r/v\\n-**部n**-\\n\\r! 登始-\\n\\r/v\\n<i\\r\\nd>\\r\\n\\r\\nii\"or\\r\\n a=orh>cps=jcyg.\"<cp<rtr\"sots>si>p\\t\\nd><o><t>'"
      ]
     },
     "execution_count": 89,
     "metadata": {},
     "output_type": "execute_result"
    }
   ],
   "source": [
    "html[html.find('<title>')+len('<title>')::3]"
   ]
  },
  {
   "cell_type": "code",
   "execution_count": 90,
   "metadata": {},
   "outputs": [
    {
     "data": {
      "text/plain": [
       "'\\r!CPhlUI\"/CD T 0rsia/\"hp/w3rTxm/Dhltntn.d\\rhlmshp/w3r19hl\\rhd\\nie爺怒  言說 博/t><thpqvCtty\"oe=e/m aeb5/\\ne m\"yr\"oe=爺怒爺怒閱相息文爺怒  小小覽/\\ne m\"sii\"oe=爺怒者 說:b;b;b;b;當相儒才備b/\\n人高節好的子< \\r見從權人她這< \\r就知根欺名，r> 用他唸就壯弱子b/\\n跟米熟就在不房< \\r他不自虧是她兼，r> 的並斥共，他還，r> 人如個成公那當，r> 她麻可因而皇< \\r偏男像藥一就下< \\r她請搬家他要暗曲b/\\n得派林圍家蒼飛來b/\\n至自出戲意死出她\"><tneah\"oe=t:w.e.mjqc)/\\ne m\"pitctt\"><tneget\"oe=vq480/\\n<nhf/s0/y_11c\"e\"yse p\"xc\"><nhf/esox/tes lslhttetts \\r\\ncptettasi\"r\"snx4.\"/rt\\nhd\\n<d\\rsi p\"xjart\\t/入函\\nni oai){ i(ce.l\\n  nwxrldarehp/wola.t\\'博)\\n si(nwib)  wd.daaPe\\'博,hp/wola.t \"\\r\\r/rt\\n-頂航-\\rd =oa><vlslt\\rd a=hja>博歡！d><i\\r\\nics\"g\"\\np a=e_t><hf/psfl.mtl\"全 a=_o經本<>\\n<p>\\r<hfjart\"ni=eopehp/wola.t\"為<>\\nar=asi:i0 cc\"oai)tl\"小覽入收！tg=pe\"藏<>\\nd><i\\r! 導e >\\r! gbn ><vdhd\"\\nics\"nilo<hf/tl\"博>博/<i\\rd a=e_nr\\r! 果二代<vlsbn_0 放nr/v<vlsbn_8 放nr/v ><vlsbn_8\\rsi p\"xjarts=jiet46j>si><i\\r/v\\nd><-o&nrn-\\r\\n<-導 g ><vdnb\"\\nics\"ia>< a=n><> e\" t=說\"頁a/><> e\"oi/psa/h\"ie連庫>書/<i\\niar=tltolit.mtl\"排\"小行/<i\\niar=tltu/h\"ie全說>小/<i\\niar=tltoaua/h\"ie最新最新a/><l\\nics\"o\\ru\\rl<hf\"體<>l\\rl<hf\"體<>l\\r/><i\\r/v\\nics\"bv\\re<hf/rst.m>文/<m\\nl\\niar=sto11t 情<>l\\rl<hf/rst/h\"傳俠a/><> e\"o/r1.m>佳/<i\\niar=sto1.m>魔/<i\\niar=sto2.m>修/<i\\niar=sto4.m>小/<i\\niar=sto5.m>校/<i\\niar=sto6.m>重/<i\\niar=sto11t 幻<>l\\rl<hf/rst1t 史<>l\\r/>< a=tr\\rl<hf/psfl.m>小/<i\\n<l\\nd><i\\r! 航e >\\r\\n-搜 g >\\r\\n\\r!  n-\\r\\n\\r\\n<vlsmn\\r\\n<vdctl\\r\\n<vdctt\\r\\n\\r\\n\\rlkr=c_0ne5s lslhttetts \\rlke\"yse e\"s29fmc\"><rtr\"sooj p\"xjart<cp\\r\\n<rty=e/vcp>\\n加藏\\rutnomk(\\n\\n  omtl\\r  ioeeaaFot\\'t/wnecee,說\\'\\r l  ioser\\n  nwib.dn(說\\'\\'t/wnecee,\";}<cp\\r\\n-**部en* ><vlshd\"\\n\\r\\n<--\\r\\n-索><vct><rtr\"secj /rt\\nct>d>\\r\\nd><-** d* >\\rd a=rp_c\\r<vlss\"ar=\"ie小覽小覽a&;\\nar=sto11t =tdee t=情\"情<>g \\tp =tdhi\"ar=bk44t =8>請<>sn/v\\nd><-** g**-\\rd =rp\"\\n-**體g g**-\\rd =it\\rd =n\"\\nii\"mQncs\"le<i\\rh《 e\"o/4.mi\"mi\"tl\"請\"爺怒a<a文  e\"uoah_h\"dhl\"夢a\\n\\r/a<1\\nics\"fgy6\"\\n&s<a39/a&s|字npsn29sn/&s|閱npsn98/a<>b;\\n&s<a35sn/&s|推npsn6<p>anp\\r新&s<a2751sn/v\\n3dhlaa>b;b;b;b;當相儒才備b/\\n人高節好的子< \\r見從權人她這< \\r就知根欺名，r> 用他唸就壯弱子b/\\n跟米熟就在不房< \\r他不自虧是她兼，r> 的並斥共，他還，r> 人如個成公那當，r> 她麻可因而皇< \\r偏男像藥一就下< \\r她請搬家他要暗曲b/\\n得派林圍家蒼飛來b/\\n至自出戲意死出她<3\\n\\rd =txnu\"lst\"鍵\\r/v\\n\\r\\nics\"tn>< a=\"\\nilsb> e\"ol339iehli\"mijuu t=擊《請》點讀a/><l\\n<vdGtg<i\\r/v\\n<v/v\\n\\r/v\\n\\r\\n\\r\\niag\"nrsl\"crn#fpdgo1x>\\r/v\\nics\"a\"/v\\n\\r\\n\\r\\n<vlsbn>d>\\rd =i\"\\nics\"\"so>章/rgecs\"ual\"ar=ne//4/d.m =tqhgetl\"《請》部\"讀爺怒全節a&;t/>d><vlsn\"\\n<vlstl\"\\nics\"mr\\rd a=\"/v\\nii\"muidcs\"><i\\rd a=\"/v\\nd><> e\"ol339210t\"dhlinm t=相息 第頁《請》 2/<2\\no =tzxsjn2751ft\\nd><>\\t\\r/v\\n\\r\\nd>\\rd a=lk<i\\r\\nii\"nb\"\\n d a=t<i\\r <vlsd>\\t  ics\"p\\t\\r\\n/v\\n\\n!cmttt>\\r <-mne-\\r<i\\r\\t\\r/v\\n\\r/v\\n-**體g d* >\\r! *主e g**-\\rd =e\"\\nics\"i\"\\n<vlsi\"i c/a//4/4sp =tfgaua=爺怒wt\"0\"eh\"5\"<i\\r\\nics\"t\\r\\n> =tqnn>狀已<>p\\n> =tqnn>類言說b/\\r\\nd><vlsft<i\\r/v\\n\\rd a=lk<i\\rdcs\"d\"\\ntso>排/rgsnlsp\"/a<t\\ndlsl\"\\n\\n\\rAr=bk5.m>攻/<>\\r\\n e\"o/0.m>前/<>\\r\\n e\"o/0.m>爹/<>\\r\\n e\"o/2.m>記AB\\r\\n<hf/o31h\"神侶AB\\r\\n<hf/o27t 噬<>R\\n\\rAr=bk87t 秦/<>\\r\\n e\"o/1.m>師·八AB\\r\\n<hf/o25t 羅<>R\\n\\rAr=bk44t 女得AB\\r\\n\\nd\\r/>\\rd a=lk<i\\rdcs\"d\"\\ntso>排/rgsnlsp\"/a<t\\ndlsl\"\\n\\n\\rAr=bk83t 唐傳AB\\r\\n<hf/o33h\"腹爸AB\\r\\n<hf/o36h\"尋<>R\\n\\rAr=bk2.m>星/<>\\r\\n e\"o/0.m>前/<>\\r\\n e\"o/4.m>請<>R\\n\\rAr=bk55t 調情AB\\r\\n<hf/o23t 動<>R\\n\\rAr=bk45t 妻寶AB\\r\\n<hf/o30h\"宅/<>\\r\\r\\nd\\r/>\\rd a=lk<i\\rdcs\"d\"\\ntso>排/rgsnlsp\"/a<t\\ndlsl\"\\n\\r\\n e\"o/6.m>雙<>R\\n\\rAr=bk13t 命奇十/<>\\r\\n e\"o/8h\"斗陸AB\\r\\n<hf/o20t 千/<>\\r\\n e\"o/6.m>記AB\\r\\n<hf/o30h\"三書AB\\r\\n<hf/o23t 動<>R\\n\\rAr=bk92t 龍<>R\\n\\rAr=bk45t 妻寶AB\\r\\n<hf/o32h\"倚龍/<>\\r<d\\nd\\r\\n\\r\\n\\r\\n<i\\r! *主e d* ><vlswpro>d><i\\r! *主e**-\\r\\n\\r\\n-**部en* >\\rd =oe>   a=an\"\\n\\tp\\n  \\nd><-** d* >\\r\\n-默陸 >\\r\\nd>\\r/v\\n<i\\r\\n\\r\\n<vdft\"\\n<cs\"pit<rtr\"sorhj /rtsi c//u.\"<cp<>\\t<i\\r/d\\r/m\\r'"
      ]
     },
     "execution_count": 90,
     "metadata": {},
     "output_type": "execute_result"
    }
   ],
   "source": [
    "html[::3]"
   ]
  }
 ],
 "metadata": {
  "kernelspec": {
   "display_name": "Python 3",
   "language": "python",
   "name": "python3"
  },
  "language_info": {
   "codemirror_mode": {
    "name": "ipython",
    "version": 3
   },
   "file_extension": ".py",
   "mimetype": "text/x-python",
   "name": "python",
   "nbconvert_exporter": "python",
   "pygments_lexer": "ipython3",
   "version": "3.6.3"
  }
 },
 "nbformat": 4,
 "nbformat_minor": 2
}
