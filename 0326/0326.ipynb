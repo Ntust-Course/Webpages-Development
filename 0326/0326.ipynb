{
 "cells": [
  {
   "cell_type": "markdown",
   "metadata": {},
   "source": [
    "# HW-1"
   ]
  },
  {
   "cell_type": "code",
   "execution_count": 7,
   "metadata": {},
   "outputs": [
    {
     "name": "stdout",
     "output_type": "stream",
     "text": [
      "輸入數字以空格隔開\n",
      "1 2 3 4 5\n"
     ]
    },
    {
     "data": {
      "text/plain": [
       "[101, 102, 103, 104, 105]"
      ]
     },
     "execution_count": 7,
     "metadata": {},
     "output_type": "execute_result"
    }
   ],
   "source": [
    "list(map(lambda x: x + 100, list(map(int, input('輸入數字以空格隔開\\n').strip().split()))))\n",
    "#[*map(lambda x: x + 100, list(map(int, input('輸入數字以空格隔開\\n').strip().split())))]"
   ]
  },
  {
   "cell_type": "markdown",
   "metadata": {},
   "source": [
    "# HW-2"
   ]
  },
  {
   "cell_type": "code",
   "execution_count": 38,
   "metadata": {},
   "outputs": [
    {
     "name": "stdout",
     "output_type": "stream",
     "text": [
      "mul_int: 6\n",
      "[Ans] add_int: 5\n"
     ]
    }
   ],
   "source": [
    "def mul_int(func):\n",
    "    def new_function(*args, **kargs):\n",
    "        print(\"mul_int: %d\"%(args[0] * args[1]))\n",
    "        return '[Ans] ' + func(*args, **kargs)\n",
    "    return new_function\n",
    "\n",
    "@mul_int\n",
    "def add_int(a, b):\n",
    "    return \"add_int: %d\"%(a + b)\n",
    "\n",
    "print(add_int(2, 3))"
   ]
  },
  {
   "cell_type": "markdown",
   "metadata": {},
   "source": [
    "# HW-3"
   ]
  },
  {
   "cell_type": "code",
   "execution_count": 4,
   "metadata": {},
   "outputs": [
    {
     "name": "stdout",
     "output_type": "stream",
     "text": [
      "請輸入數字\n",
      "1gang\n",
      "出錯，請重新輸入\n",
      "請輸入數字\n",
      "123\n"
     ]
    }
   ],
   "source": [
    "while 1:\n",
    "    try:\n",
    "        int(input(\"請輸入數字\\n\"))\n",
    "        break\n",
    "    except Exception:\n",
    "        print(\"出錯，請重新輸入\")"
   ]
  },
  {
   "cell_type": "markdown",
   "metadata": {},
   "source": [
    "# HW-4"
   ]
  },
  {
   "cell_type": "code",
   "execution_count": 5,
   "metadata": {},
   "outputs": [
    {
     "name": "stdout",
     "output_type": "stream",
     "text": [
      "輸入數字以空格隔開\n",
      "1 2 3 4 5\n",
      "輸入+-*/\n",
      "*\n",
      "1*2*3*4*5=120\n"
     ]
    }
   ],
   "source": [
    "from source import calculator as c\n",
    "#from source.calculator import *\n",
    "#from source import *\n",
    "#import source.calculator\n",
    "#etc...\n",
    "num = input('輸入數字以空格隔開\\n').strip().split()\n",
    "func = input('輸入+-*/\\n')\n",
    "print(c.calc(func,num))"
   ]
  }
 ],
 "metadata": {
  "kernelspec": {
   "display_name": "Python 3",
   "language": "python",
   "name": "python3"
  },
  "language_info": {
   "codemirror_mode": {
    "name": "ipython",
    "version": 3
   },
   "file_extension": ".py",
   "mimetype": "text/x-python",
   "name": "python",
   "nbconvert_exporter": "python",
   "pygments_lexer": "ipython3",
   "version": "3.6.3"
  }
 },
 "nbformat": 4,
 "nbformat_minor": 2
}
