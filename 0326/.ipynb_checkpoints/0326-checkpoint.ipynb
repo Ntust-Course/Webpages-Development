{
 "cells": [
  {
   "cell_type": "markdown",
   "metadata": {},
   "source": [
    "# HW-1"
   ]
  },
  {
   "cell_type": "code",
   "execution_count": 7,
   "metadata": {},
   "outputs": [
    {
     "name": "stdout",
     "output_type": "stream",
     "text": [
      "輸入數字以空格隔開\n",
      "1 2 3 4 5\n"
     ]
    },
    {
     "data": {
      "text/plain": [
       "[101, 102, 103, 104, 105]"
      ]
     },
     "execution_count": 7,
     "metadata": {},
     "output_type": "execute_result"
    }
   ],
   "source": [
    "list(map(lambda x: x + 100, list(map(int, input('輸入數字以空格隔開\\n').strip().split()))))\n",
    "#[*map(lambda x: x + 100, list(map(int, input('輸入數字以空格隔開\\n').strip().split())))]"
   ]
  },
  {
   "cell_type": "markdown",
   "metadata": {},
   "source": [
    "# HW-2"
   ]
  },
  {
   "cell_type": "code",
   "execution_count": 38,
   "metadata": {},
   "outputs": [
    {
     "name": "stdout",
     "output_type": "stream",
     "text": [
      "mul_int: 6\n",
      "[Ans] add_int: 5\n"
     ]
    }
   ],
   "source": [
    "def mul_int(func):\n",
    "    def new_function(*args, **kargs):\n",
    "        print(\"mul_int: %d\"%(args[0] * args[1]))\n",
    "        return '[Ans] ' + func(*args, **kargs)\n",
    "    return new_function\n",
    "\n",
    "@mul_int\n",
    "def add_int(a, b):\n",
    "    return \"add_int: %d\"%(a + b)\n",
    "\n",
    "print(add_int(2, 3))"
   ]
  },
  {
   "cell_type": "markdown",
   "metadata": {},
   "source": [
    "# HW-3"
   ]
  },
  {
   "cell_type": "code",
   "execution_count": null,
   "metadata": {},
   "outputs": [],
   "source": []
  },
  {
   "cell_type": "markdown",
   "metadata": {},
   "source": [
    "# HW-4"
   ]
  },
  {
   "cell_type": "code",
   "execution_count": 3,
   "metadata": {},
   "outputs": [
    {
     "name": "stdout",
     "output_type": "stream",
     "text": [
      "輸入數字以空格隔開\n",
      "1 2 3\n",
      "輸入+-*/\n",
      "*\n",
      "1*2*3=6\n"
     ]
    }
   ],
   "source": [
    "from source import calculator\n",
    "#from source.calculator import *\n",
    "#from source import *\n",
    "#import source.calculator\n",
    "#etc...\n",
    "num = input('輸入數字以空格隔開\\n').strip().split()\n",
    "func = input('輸入+-*/\\n')\n",
    "print(calculator.calc(func,num))"
   ]
  }
 ],
 "metadata": {
  "kernelspec": {
   "display_name": "Python 3",
   "language": "python",
   "name": "python3"
  },
  "language_info": {
   "codemirror_mode": {
    "name": "ipython",
    "version": 3
   },
   "file_extension": ".py",
   "mimetype": "text/x-python",
   "name": "python",
   "nbconvert_exporter": "python",
   "pygments_lexer": "ipython3",
   "version": "3.6.3"
  }
 },
 "nbformat": 4,
 "nbformat_minor": 2
}
